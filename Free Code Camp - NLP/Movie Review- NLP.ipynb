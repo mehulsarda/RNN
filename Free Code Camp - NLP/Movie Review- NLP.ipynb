{
 "cells": [
  {
   "cell_type": "code",
   "execution_count": 1,
   "id": "4277c6d7",
   "metadata": {},
   "outputs": [],
   "source": [
    "import io\n",
    "import matplotlib.pyplot as plt \n",
    "import tensorflow as tf\n",
    "from tensorflow import keras\n",
    "from tensorflow.keras import layers\n",
    "import tensorflow_datasets as tfds"
   ]
  },
  {
   "cell_type": "code",
   "execution_count": 2,
   "id": "c3c28020",
   "metadata": {},
   "outputs": [
    {
     "data": {
      "text/plain": [
       "array([[ 0.00066633, -0.04647933,  0.02341236, -0.02410635, -0.04101088],\n",
       "       [-0.02618973, -0.04920033, -0.02461977, -0.01883521, -0.00648056],\n",
       "       [ 0.01043339, -0.00205213,  0.03492762, -0.01219684, -0.02905241]],\n",
       "      dtype=float32)"
      ]
     },
     "execution_count": 2,
     "metadata": {},
     "output_type": "execute_result"
    }
   ],
   "source": [
    "embedding_layer = tf.keras.layers.Embedding(1000,5)\n",
    "result = embedding_layer(tf.constant([1,2,3]))\n",
    "result.numpy()"
   ]
  },
  {
   "cell_type": "code",
   "execution_count": 3,
   "id": "502afeda",
   "metadata": {},
   "outputs": [],
   "source": [
    "(train_data,test_data),info = tfds.load(\n",
    "    \"imdb_reviews\",\n",
    "    split = [\"train\",\"test\"],\n",
    "    shuffle_files = True,\n",
    "    as_supervised = True,\n",
    "    with_info = True\n",
    ")"
   ]
  },
  {
   "cell_type": "code",
   "execution_count": 9,
   "id": "d6b11bdd",
   "metadata": {},
   "outputs": [
    {
     "data": {
      "text/plain": [
       "<tf.Tensor: shape=(5,), dtype=string, numpy=\n",
       "array([b\"This was an absolutely terrible movie. Don't be lured in by Christopher Walken or Michael Ironside. Both are great actors, but this must simply be their worst role in history. Even their great acting could not redeem this movie's ridiculous storyline. This movie is an early nineties US propaganda piece. The most pathetic scenes were those when the Columbian rebels were making their cases for revolutions. Maria Conchita Alonso appeared phony, and her pseudo-love affair with Walken was nothing but a pathetic emotional plug in a movie that was devoid of any real meaning. I am disappointed that there are movies like this, ruining actor's like Christopher Walken's good name. I could barely sit through it.\",\n",
       "       b'I have been known to fall asleep during films, but this is usually due to a combination of things including, really tired, being warm and comfortable on the sette and having just eaten a lot. However on this occasion I fell asleep because the film was rubbish. The plot development was constant. Constantly slow and boring. Things seemed to happen, but with no explanation of what was causing them or why. I admit, I may have missed part of the film, but i watched the majority of it and everything just seemed to happen of its own accord without any real concern for anything else. I cant recommend this film at all.',\n",
       "       b'Mann photographs the Alberta Rocky Mountains in a superb fashion, and Jimmy Stewart and Walter Brennan give enjoyable performances as they always seem to do. <br /><br />But come on Hollywood - a Mountie telling the people of Dawson City, Yukon to elect themselves a marshal (yes a marshal!) and to enforce the law themselves, then gunfighters battling it out on the streets for control of the town? <br /><br />Nothing even remotely resembling that happened on the Canadian side of the border during the Klondike gold rush. Mr. Mann and company appear to have mistaken Dawson City for Deadwood, the Canadian North for the American Wild West.<br /><br />Canadian viewers be prepared for a Reefer Madness type of enjoyable howl with this ludicrous plot, or, to shake your head in disgust.',\n",
       "       b'This is the kind of film for a snowy Sunday afternoon when the rest of the world can go ahead with its own business as you descend into a big arm-chair and mellow for a couple of hours. Wonderful performances from Cher and Nicolas Cage (as always) gently row the plot along. There are no rapids to cross, no dangerous waters, just a warm and witty paddle through New York life at its best. A family film in every sense and one that deserves the praise it received.',\n",
       "       b'As others have mentioned, all the women that go nude in this film are mostly absolutely gorgeous. The plot very ably shows the hypocrisy of the female libido. When men are around they want to be pursued, but when no \"men\" are around, they become the pursuers of a 14 year old boy. And the boy becomes a man really fast (we should all be so lucky at this age!). He then gets up the courage to pursue his true love.'],\n",
       "      dtype=object)>"
      ]
     },
     "execution_count": 9,
     "metadata": {},
     "output_type": "execute_result"
    }
   ],
   "source": [
    "train_example_batch , train_label_batch = next(iter(train_data.batch(5)))\n",
    "train_example_batch"
   ]
  },
  {
   "cell_type": "code",
   "execution_count": 10,
   "id": "7051bdbb",
   "metadata": {},
   "outputs": [],
   "source": [
    "# Transfer learning to convert words to vec\n",
    "import tensorflow_hub as hub"
   ]
  },
  {
   "cell_type": "code",
   "execution_count": 11,
   "id": "9a91bcb2",
   "metadata": {},
   "outputs": [],
   "source": [
    "pretained_model = \"https://tfhub.dev/google/tf2-preview/gnews-swivel-20dim/1\"\n",
    "hub_layer = hub.KerasLayer(pretained_model, input_shape=[], dtype = tf.string, trainable=True)"
   ]
  },
  {
   "cell_type": "code",
   "execution_count": 12,
   "id": "e9a1d3e7",
   "metadata": {},
   "outputs": [
    {
     "data": {
      "text/plain": [
       "<tf.Tensor: shape=(2, 20), dtype=float32, numpy=\n",
       "array([[ 1.765786  , -3.882232  ,  3.9134233 , -1.5557289 , -3.3362343 ,\n",
       "        -1.7357955 , -1.9954445 ,  1.2989551 ,  5.081598  , -1.1041286 ,\n",
       "        -2.0503852 , -0.72675157, -0.65675956,  0.24436149, -3.7208383 ,\n",
       "         2.0954835 ,  2.2969332 , -2.0689783 , -2.9489717 , -1.1315987 ],\n",
       "       [ 1.8804485 , -2.5852382 ,  3.4066997 ,  1.0982676 , -4.056685  ,\n",
       "        -4.891284  , -2.785554  ,  1.3874227 ,  3.8476458 , -0.9256538 ,\n",
       "        -1.896706  ,  1.2113281 ,  0.11474707,  0.76209456, -4.8791065 ,\n",
       "         2.906149  ,  4.7087674 , -2.3652055 , -3.5015898 , -1.6390051 ]],\n",
       "      dtype=float32)>"
      ]
     },
     "execution_count": 12,
     "metadata": {},
     "output_type": "execute_result"
    }
   ],
   "source": [
    "hub_layer(train_example_batch[:2])"
   ]
  },
  {
   "cell_type": "code",
   "execution_count": 13,
   "id": "dba9f1a7",
   "metadata": {},
   "outputs": [
    {
     "data": {
      "text/plain": [
       "<tf.Tensor: shape=(2,), dtype=string, numpy=\n",
       "array([b\"This was an absolutely terrible movie. Don't be lured in by Christopher Walken or Michael Ironside. Both are great actors, but this must simply be their worst role in history. Even their great acting could not redeem this movie's ridiculous storyline. This movie is an early nineties US propaganda piece. The most pathetic scenes were those when the Columbian rebels were making their cases for revolutions. Maria Conchita Alonso appeared phony, and her pseudo-love affair with Walken was nothing but a pathetic emotional plug in a movie that was devoid of any real meaning. I am disappointed that there are movies like this, ruining actor's like Christopher Walken's good name. I could barely sit through it.\",\n",
       "       b'I have been known to fall asleep during films, but this is usually due to a combination of things including, really tired, being warm and comfortable on the sette and having just eaten a lot. However on this occasion I fell asleep because the film was rubbish. The plot development was constant. Constantly slow and boring. Things seemed to happen, but with no explanation of what was causing them or why. I admit, I may have missed part of the film, but i watched the majority of it and everything just seemed to happen of its own accord without any real concern for anything else. I cant recommend this film at all.'],\n",
       "      dtype=object)>"
      ]
     },
     "execution_count": 13,
     "metadata": {},
     "output_type": "execute_result"
    }
   ],
   "source": [
    "train_example_batch[:2]"
   ]
  },
  {
   "cell_type": "code",
   "execution_count": 23,
   "id": "41025edc",
   "metadata": {},
   "outputs": [],
   "source": [
    "model = tf.keras.Sequential([\n",
    "    hub_layer,\n",
    "    layers.Dense(16, activation='relu'),\n",
    "    layers.Dense(1, activation='sigmoid')\n",
    "])\n",
    "\n",
    "model.compile(optimizer='adam', loss='binary_crossentropy', metrics=['accuracy'])"
   ]
  },
  {
   "cell_type": "code",
   "execution_count": 24,
   "id": "b682eda5",
   "metadata": {},
   "outputs": [
    {
     "name": "stdout",
     "output_type": "stream",
     "text": [
      "Model: \"sequential_3\"\n",
      "_________________________________________________________________\n",
      "Layer (type)                 Output Shape              Param #   \n",
      "=================================================================\n",
      "keras_layer (KerasLayer)     (None, 20)                400020    \n",
      "_________________________________________________________________\n",
      "dense_7 (Dense)              (None, 16)                336       \n",
      "_________________________________________________________________\n",
      "dense_8 (Dense)              (None, 1)                 17        \n",
      "=================================================================\n",
      "Total params: 400,373\n",
      "Trainable params: 400,373\n",
      "Non-trainable params: 0\n",
      "_________________________________________________________________\n"
     ]
    }
   ],
   "source": [
    "model.summary()"
   ]
  },
  {
   "cell_type": "code",
   "execution_count": 25,
   "id": "e4a447e7",
   "metadata": {},
   "outputs": [
    {
     "name": "stdout",
     "output_type": "stream",
     "text": [
      "Epoch 1/20\n",
      "49/49 [==============================] - 2s 28ms/step - loss: 1.4757 - accuracy: 0.5169\n",
      "Epoch 2/20\n",
      "49/49 [==============================] - 1s 27ms/step - loss: 0.6748 - accuracy: 0.5948\n",
      "Epoch 3/20\n",
      "49/49 [==============================] - 1s 27ms/step - loss: 0.6456 - accuracy: 0.6300\n",
      "Epoch 4/20\n",
      "49/49 [==============================] - 1s 27ms/step - loss: 0.6198 - accuracy: 0.6636\n",
      "Epoch 5/20\n",
      "49/49 [==============================] - 1s 28ms/step - loss: 0.5944 - accuracy: 0.6978\n",
      "Epoch 6/20\n",
      "49/49 [==============================] - 1s 28ms/step - loss: 0.5702 - accuracy: 0.7204\n",
      "Epoch 7/20\n",
      "49/49 [==============================] - 1s 27ms/step - loss: 0.5462 - accuracy: 0.7454\n",
      "Epoch 8/20\n",
      "49/49 [==============================] - 1s 27ms/step - loss: 0.5220 - accuracy: 0.7675\n",
      "Epoch 9/20\n",
      "49/49 [==============================] - 1s 27ms/step - loss: 0.4998 - accuracy: 0.7890\n",
      "Epoch 10/20\n",
      "49/49 [==============================] - 1s 28ms/step - loss: 0.4774 - accuracy: 0.8033\n",
      "Epoch 11/20\n",
      "49/49 [==============================] - 1s 27ms/step - loss: 0.4600 - accuracy: 0.8144\n",
      "Epoch 12/20\n",
      "49/49 [==============================] - 1s 27ms/step - loss: 0.4405 - accuracy: 0.8252\n",
      "Epoch 13/20\n",
      "49/49 [==============================] - 1s 28ms/step - loss: 0.4174 - accuracy: 0.8400\n",
      "Epoch 14/20\n",
      "49/49 [==============================] - 1s 28ms/step - loss: 0.3988 - accuracy: 0.8517\n",
      "Epoch 15/20\n",
      "49/49 [==============================] - 1s 28ms/step - loss: 0.3807 - accuracy: 0.8597\n",
      "Epoch 16/20\n",
      "49/49 [==============================] - 1s 28ms/step - loss: 0.3655 - accuracy: 0.8692\n",
      "Epoch 17/20\n",
      "49/49 [==============================] - 1s 27ms/step - loss: 0.3505 - accuracy: 0.8736\n",
      "Epoch 18/20\n",
      "49/49 [==============================] - 1s 28ms/step - loss: 0.3377 - accuracy: 0.8790\n",
      "Epoch 19/20\n",
      "49/49 [==============================] - 1s 28ms/step - loss: 0.3232 - accuracy: 0.8863\n",
      "Epoch 20/20\n",
      "49/49 [==============================] - 1s 27ms/step - loss: 0.3105 - accuracy: 0.8915\n"
     ]
    },
    {
     "data": {
      "text/plain": [
       "<tensorflow.python.keras.callbacks.History at 0x1f6c100f370>"
      ]
     },
     "execution_count": 25,
     "metadata": {},
     "output_type": "execute_result"
    }
   ],
   "source": [
    "model.fit(train_data.shuffle(10000).batch(512), epochs=20)"
   ]
  },
  {
   "cell_type": "code",
   "execution_count": 28,
   "id": "f7b54bd5",
   "metadata": {},
   "outputs": [
    {
     "name": "stdout",
     "output_type": "stream",
     "text": [
      "49/49 [==============================] - 1s 22ms/step - loss: 0.3069 - accuracy: 0.8896\n"
     ]
    },
    {
     "data": {
      "text/plain": [
       "[0.30685240030288696, 0.8895999789237976]"
      ]
     },
     "execution_count": 28,
     "metadata": {},
     "output_type": "execute_result"
    }
   ],
   "source": [
    "model.evaluate(train_data.batch(512))"
   ]
  },
  {
   "cell_type": "code",
   "execution_count": 29,
   "id": "475c6177",
   "metadata": {},
   "outputs": [],
   "source": [
    "# model.save('Movie Review model.h5')"
   ]
  },
  {
   "cell_type": "code",
   "execution_count": 39,
   "id": "22715a67",
   "metadata": {},
   "outputs": [
    {
     "data": {
      "text/plain": [
       "array([[0.5107626]], dtype=float32)"
      ]
     },
     "execution_count": 39,
     "metadata": {},
     "output_type": "execute_result"
    }
   ],
   "source": [
    "model.predict(['This is ok movie'])"
   ]
  },
  {
   "cell_type": "code",
   "execution_count": null,
   "id": "8af8bda8",
   "metadata": {},
   "outputs": [],
   "source": []
  }
 ],
 "metadata": {
  "kernelspec": {
   "display_name": "Python 3",
   "language": "python",
   "name": "python3"
  },
  "language_info": {
   "codemirror_mode": {
    "name": "ipython",
    "version": 3
   },
   "file_extension": ".py",
   "mimetype": "text/x-python",
   "name": "python",
   "nbconvert_exporter": "python",
   "pygments_lexer": "ipython3",
   "version": "3.8.6"
  }
 },
 "nbformat": 4,
 "nbformat_minor": 5
}
