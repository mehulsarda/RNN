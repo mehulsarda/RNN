{
 "cells": [
  {
   "cell_type": "code",
   "execution_count": 1,
   "id": "1e710f5e",
   "metadata": {},
   "outputs": [],
   "source": [
    "import tensorflow as tf\n",
    "from tensorflow.keras.models import Model\n",
    "from tensorflow.keras.layers import Input, LSTM, Dense\n",
    "import numpy as np\n",
    "import pandas as pd"
   ]
  },
  {
   "cell_type": "code",
   "execution_count": 2,
   "id": "51536df4",
   "metadata": {},
   "outputs": [],
   "source": [
    "batch_size = 64\n",
    "epochs = 100\n",
    "latent_dim = 256\n",
    "num_samples = 15000\n",
    "data_path = './fra-eng/fra.txt'"
   ]
  },
  {
   "cell_type": "code",
   "execution_count": 3,
   "id": "4f82bdd8",
   "metadata": {},
   "outputs": [],
   "source": [
    "# Vectorize the data\n",
    "input_texts = []\n",
    "target_texts = []\n",
    "input_characters = set()\n",
    "target_characters = set()\n",
    "\n",
    "with open(data_path, 'r', encoding='utf-8') as f:\n",
    "    lines = f.read().split('\\n')\n",
    "for line in lines[  min(num_samples, len(lines) - 1)]:\n",
    "    input_text, target_text, _ = line.split('\\t')\n",
    "    \n",
    "    target_text = '\\t' + target_text + '\\n'\n",
    "    input_texts.append(input_text)\n",
    "    target_texts.append(target_text)\n",
    "    for char in input_text:\n",
    "        if char not in input_characters:\n",
    "            input_characters.add(char)\n",
    "    for char in target_text:\n",
    "        if char not in target_characters:\n",
    "            target_characters.add(char)"
   ]
  },
  {
   "cell_type": "code",
   "execution_count": 4,
   "id": "f5e666ad",
   "metadata": {},
   "outputs": [
    {
     "data": {
      "text/plain": [
       "74"
      ]
     },
     "execution_count": 4,
     "metadata": {},
     "output_type": "execute_result"
    }
   ],
   "source": [
    "len(input_characters)"
   ]
  },
  {
   "cell_type": "code",
   "execution_count": 5,
   "id": "e39ee873",
   "metadata": {},
   "outputs": [],
   "source": [
    "input_characters = sorted(list(input_characters))\n",
    "target_characters = sorted(list(target_characters))\n",
    "num_encoder_tokens = len(input_characters)\n",
    "num_decoder_tokens = len(target_characters)\n",
    "max_encoder_seq_length = max([len(txt) for txt in input_texts])\n",
    "max_decoder_seq_length = max([len(txt) for txt in target_texts])"
   ]
  },
  {
   "cell_type": "code",
   "execution_count": 6,
   "id": "eed56228",
   "metadata": {},
   "outputs": [
    {
     "data": {
      "text/plain": [
       "(15000, 74, 98, 16, 59)"
      ]
     },
     "execution_count": 6,
     "metadata": {},
     "output_type": "execute_result"
    }
   ],
   "source": [
    "len(input_texts), num_encoder_tokens, num_decoder_tokens, max_encoder_seq_length, max_decoder_seq_length"
   ]
  },
  {
   "cell_type": "code",
   "execution_count": 7,
   "id": "d51bba5c",
   "metadata": {},
   "outputs": [],
   "source": [
    "input_token_index = dict([(char,i) for i, char in enumerate(input_characters)])\n",
    "target_token_index = dict([(char,i) for i, char in enumerate(target_characters)])"
   ]
  },
  {
   "cell_type": "code",
   "execution_count": 8,
   "id": "9fa0747b",
   "metadata": {},
   "outputs": [],
   "source": [
    "# input_token_index"
   ]
  },
  {
   "cell_type": "code",
   "execution_count": 33,
   "id": "5dd66d55",
   "metadata": {},
   "outputs": [],
   "source": [
    "encoder_input_data = np.zeros(\n",
    "    (len(input_texts), max_encoder_seq_length, num_encoder_tokens), dtype = 'float32'\n",
    ")\n",
    "decoder_input_data = np.zeros(\n",
    "    (len(input_texts), max_decoder_seq_length, num_decoder_tokens), dtype = 'float32'\n",
    ")\n",
    "decoder_target_data = np.zeros(\n",
    "    (len(input_texts), max_decoder_seq_length, num_decoder_tokens), dtype = 'float32'\n",
    ")"
   ]
  },
  {
   "cell_type": "code",
   "execution_count": 34,
   "id": "3eb1bd41",
   "metadata": {},
   "outputs": [],
   "source": [
    "# One hot representation\n",
    "for i, (input_text, target_text) in enumerate(zip(input_texts,target_texts)):\n",
    "    for t, char in enumerate(input_text):\n",
    "        encoder_input_data[i, t, input_token_index[char]] = 1.\n",
    "    encoder_input_data[i, t + 1: ,input_token_index[' ']] = 1.\n",
    "    for t, char in enumerate(target_text):\n",
    "        decoder_input_data[i, t, target_token_index[char]] = 1.\n",
    "        if t > 0:\n",
    "            decoder_target_data[i, t - 1 ,target_token_index[char]] = 1.\n",
    "        \n",
    "        decoder_input_data[i, t + 1:, target_token_index[' ']] = 1.\n",
    "        decoder_target_data[i, t:, target_token_index[' ']] = 1."
   ]
  },
  {
   "cell_type": "code",
   "execution_count": 37,
   "id": "9e76dc68",
   "metadata": {},
   "outputs": [
    {
     "data": {
      "text/plain": [
       "array([0., 0., 0., 0., 0., 0., 0., 0., 0., 0., 0., 0., 0., 0., 0., 0., 0.,\n",
       "       0., 0., 0., 0., 0., 0., 0., 0., 0., 0., 0., 1., 0., 0., 0., 0., 0.,\n",
       "       0., 0., 0., 0., 0., 0., 0., 0., 0., 0., 0., 0., 0., 0., 0., 0., 0.,\n",
       "       0., 0., 0., 0., 0., 0., 0., 0., 0., 0., 0., 0., 0., 0., 0., 0., 0.,\n",
       "       0., 0., 0., 0., 0., 0.], dtype=float32)"
      ]
     },
     "execution_count": 37,
     "metadata": {},
     "output_type": "execute_result"
    }
   ],
   "source": [
    "encoder_input_data[0][0]"
   ]
  },
  {
   "cell_type": "code",
   "execution_count": 38,
   "id": "b803b0fe",
   "metadata": {},
   "outputs": [],
   "source": [
    "encoder_inputs = Input(shape=(None, num_encoder_tokens))\n",
    "encoder = LSTM(latent_dim, return_state=True)\n",
    "encoder_outputs, state_h, state_c = encoder(encoder_inputs)\n",
    "encoder_state = [state_h, state_c]"
   ]
  },
  {
   "cell_type": "code",
   "execution_count": 39,
   "id": "43d06a1a",
   "metadata": {},
   "outputs": [],
   "source": [
    "decoder_inputs = Input(shape=(None, num_decoder_tokens))\n",
    "decoder_lstm = LSTM(latent_dim, return_sequences = True, return_state=True)\n",
    "decoder_outputs , _, _ = decoder_lstm(decoder_inputs, initial_state=encoder_state)\n",
    "decoder_dense = Dense(num_decoder_tokens , activation='softmax')\n",
    "decoder_outputs = decoder_dense(decoder_outputs)"
   ]
  },
  {
   "cell_type": "code",
   "execution_count": 40,
   "id": "a7fddb24",
   "metadata": {},
   "outputs": [
    {
     "name": "stdout",
     "output_type": "stream",
     "text": [
      "Epoch 1/100\n",
      "176/176 [==============================] - 6s 24ms/step - loss: 2.0807 - accuracy: 0.9778 - val_loss: 2.4058 - val_accuracy: 0.9831\n",
      "Epoch 2/100\n",
      "176/176 [==============================] - 4s 21ms/step - loss: 2.1927 - accuracy: 0.9830 - val_loss: 2.6146 - val_accuracy: 0.9831\n",
      "Epoch 3/100\n",
      "176/176 [==============================] - 4s 21ms/step - loss: 2.3875 - accuracy: 0.9831 - val_loss: 2.8207 - val_accuracy: 0.9831\n",
      "Epoch 4/100\n",
      "176/176 [==============================] - 4s 21ms/step - loss: 2.5819 - accuracy: 0.9831 - val_loss: 3.0541 - val_accuracy: 0.9831\n",
      "Epoch 5/100\n",
      "176/176 [==============================] - 4s 21ms/step - loss: 2.7733 - accuracy: 0.9831 - val_loss: 3.2418 - val_accuracy: 0.9831\n",
      "Epoch 6/100\n",
      "176/176 [==============================] - 4s 22ms/step - loss: 2.9633 - accuracy: 0.9831 - val_loss: 3.4633 - val_accuracy: 0.9831\n",
      "Epoch 7/100\n",
      "176/176 [==============================] - 4s 21ms/step - loss: 3.1693 - accuracy: 0.9831 - val_loss: 3.6991 - val_accuracy: 0.9831\n",
      "Epoch 8/100\n",
      "176/176 [==============================] - 4s 21ms/step - loss: 3.3684 - accuracy: 0.9831 - val_loss: 3.9416 - val_accuracy: 0.9831\n",
      "Epoch 9/100\n",
      "176/176 [==============================] - 4s 22ms/step - loss: 3.5835 - accuracy: 0.9827 - val_loss: 4.1224 - val_accuracy: 0.9831\n",
      "Epoch 10/100\n",
      "176/176 [==============================] - 4s 21ms/step - loss: 3.7626 - accuracy: 0.9831 - val_loss: 4.3481 - val_accuracy: 0.9831\n",
      "Epoch 11/100\n",
      "176/176 [==============================] - 4s 22ms/step - loss: 3.9658 - accuracy: 0.9830 - val_loss: 4.5899 - val_accuracy: 0.9831\n",
      "Epoch 12/100\n",
      "176/176 [==============================] - 4s 22ms/step - loss: 4.1718 - accuracy: 0.9831 - val_loss: 4.8335 - val_accuracy: 0.9831\n",
      "Epoch 13/100\n",
      "176/176 [==============================] - 4s 21ms/step - loss: 4.3929 - accuracy: 0.9831 - val_loss: 5.0694 - val_accuracy: 0.9831\n",
      "Epoch 14/100\n",
      "176/176 [==============================] - 4s 22ms/step - loss: 4.6030 - accuracy: 0.9831 - val_loss: 5.3193 - val_accuracy: 0.9831\n",
      "Epoch 15/100\n",
      "176/176 [==============================] - 4s 22ms/step - loss: 4.8134 - accuracy: 0.9831 - val_loss: 5.5124 - val_accuracy: 0.9831\n",
      "Epoch 16/100\n",
      "176/176 [==============================] - 4s 22ms/step - loss: 5.0216 - accuracy: 0.9831 - val_loss: 5.7581 - val_accuracy: 0.9831\n",
      "Epoch 17/100\n",
      "176/176 [==============================] - 4s 22ms/step - loss: 5.2373 - accuracy: 0.9831 - val_loss: 6.0171 - val_accuracy: 0.9831\n",
      "Epoch 18/100\n",
      "176/176 [==============================] - 4s 22ms/step - loss: 5.4459 - accuracy: 0.9831 - val_loss: 6.2276 - val_accuracy: 0.9831\n",
      "Epoch 19/100\n",
      "176/176 [==============================] - 4s 22ms/step - loss: 5.6569 - accuracy: 0.9831 - val_loss: 6.4798 - val_accuracy: 0.9831\n",
      "Epoch 20/100\n",
      "176/176 [==============================] - 4s 22ms/step - loss: 5.8760 - accuracy: 0.9831 - val_loss: 6.7274 - val_accuracy: 0.9831\n",
      "Epoch 21/100\n",
      "176/176 [==============================] - 4s 22ms/step - loss: 6.0888 - accuracy: 0.9831 - val_loss: 6.9611 - val_accuracy: 0.9831\n",
      "Epoch 22/100\n",
      "176/176 [==============================] - 4s 22ms/step - loss: 6.3004 - accuracy: 0.9831 - val_loss: 7.1943 - val_accuracy: 0.9831\n",
      "Epoch 23/100\n",
      "176/176 [==============================] - 4s 22ms/step - loss: 6.5239 - accuracy: 0.9831 - val_loss: 7.4596 - val_accuracy: 0.9831\n",
      "Epoch 24/100\n",
      "176/176 [==============================] - 4s 22ms/step - loss: 6.7443 - accuracy: 0.9831 - val_loss: 7.7043 - val_accuracy: 0.9831\n",
      "Epoch 25/100\n",
      "176/176 [==============================] - 4s 22ms/step - loss: 6.9593 - accuracy: 0.9831 - val_loss: 7.9188 - val_accuracy: 0.9831\n",
      "Epoch 26/100\n",
      "176/176 [==============================] - 4s 22ms/step - loss: 7.1625 - accuracy: 0.9831 - val_loss: 8.1679 - val_accuracy: 0.9831\n",
      "Epoch 27/100\n",
      "176/176 [==============================] - 4s 22ms/step - loss: 7.3767 - accuracy: 0.9831 - val_loss: 8.4146 - val_accuracy: 0.9831\n",
      "Epoch 28/100\n",
      "176/176 [==============================] - 4s 22ms/step - loss: 7.5974 - accuracy: 0.9831 - val_loss: 8.6341 - val_accuracy: 0.9831\n",
      "Epoch 29/100\n",
      "176/176 [==============================] - 4s 22ms/step - loss: 7.8144 - accuracy: 0.9831 - val_loss: 8.9142 - val_accuracy: 0.9831\n",
      "Epoch 30/100\n",
      "176/176 [==============================] - 4s 22ms/step - loss: 8.0269 - accuracy: 0.9831 - val_loss: 9.1283 - val_accuracy: 0.9831\n",
      "Epoch 31/100\n",
      "176/176 [==============================] - 4s 22ms/step - loss: 8.2368 - accuracy: 0.9831 - val_loss: 9.3424 - val_accuracy: 0.9831\n",
      "Epoch 32/100\n",
      "176/176 [==============================] - 4s 22ms/step - loss: 8.4454 - accuracy: 0.9831 - val_loss: 9.5960 - val_accuracy: 0.9831\n",
      "Epoch 33/100\n",
      "176/176 [==============================] - 4s 22ms/step - loss: 8.6549 - accuracy: 0.9831 - val_loss: 9.8118 - val_accuracy: 0.9831\n",
      "Epoch 34/100\n",
      "176/176 [==============================] - 4s 22ms/step - loss: 8.8558 - accuracy: 0.9831 - val_loss: 10.0738 - val_accuracy: 0.9831\n",
      "Epoch 35/100\n",
      "176/176 [==============================] - 4s 22ms/step - loss: 9.0560 - accuracy: 0.9831 - val_loss: 10.2292 - val_accuracy: 0.9831\n",
      "Epoch 36/100\n",
      "176/176 [==============================] - 4s 22ms/step - loss: 9.2472 - accuracy: 0.9831 - val_loss: 10.4651 - val_accuracy: 0.9831\n",
      "Epoch 37/100\n",
      "176/176 [==============================] - 4s 22ms/step - loss: 9.4456 - accuracy: 0.9831 - val_loss: 10.6992 - val_accuracy: 0.9831\n",
      "Epoch 38/100\n",
      "176/176 [==============================] - 4s 22ms/step - loss: 9.6527 - accuracy: 0.9831 - val_loss: 10.9329 - val_accuracy: 0.9831\n",
      "Epoch 39/100\n",
      "176/176 [==============================] - 4s 22ms/step - loss: 9.8709 - accuracy: 0.9831 - val_loss: 11.1821 - val_accuracy: 0.9831\n",
      "Epoch 40/100\n",
      "176/176 [==============================] - 4s 22ms/step - loss: 10.0870 - accuracy: 0.9831 - val_loss: 11.4167 - val_accuracy: 0.9831\n",
      "Epoch 41/100\n",
      "176/176 [==============================] - 4s 22ms/step - loss: 10.3012 - accuracy: 0.9831 - val_loss: 11.6484 - val_accuracy: 0.9831\n",
      "Epoch 42/100\n",
      "176/176 [==============================] - 4s 22ms/step - loss: 10.5179 - accuracy: 0.9831 - val_loss: 11.9017 - val_accuracy: 0.9831\n",
      "Epoch 43/100\n",
      "176/176 [==============================] - 4s 22ms/step - loss: 10.7447 - accuracy: 0.9831 - val_loss: 12.1620 - val_accuracy: 0.9831\n",
      "Epoch 44/100\n",
      "176/176 [==============================] - 4s 22ms/step - loss: 10.9732 - accuracy: 0.9831 - val_loss: 12.4229 - val_accuracy: 0.9831\n",
      "Epoch 45/100\n",
      "176/176 [==============================] - 4s 22ms/step - loss: 11.2080 - accuracy: 0.9831 - val_loss: 12.7031 - val_accuracy: 0.9831\n",
      "Epoch 46/100\n",
      "176/176 [==============================] - 4s 22ms/step - loss: 11.4472 - accuracy: 0.9831 - val_loss: 12.9392 - val_accuracy: 0.9831\n",
      "Epoch 47/100\n",
      "176/176 [==============================] - 4s 22ms/step - loss: 11.6799 - accuracy: 0.9831 - val_loss: 13.2124 - val_accuracy: 0.9831\n",
      "Epoch 48/100\n",
      "176/176 [==============================] - 4s 22ms/step - loss: 11.9134 - accuracy: 0.9831 - val_loss: 13.4724 - val_accuracy: 0.9831\n",
      "Epoch 49/100\n",
      "176/176 [==============================] - 4s 22ms/step - loss: 12.1454 - accuracy: 0.9831 - val_loss: 13.7503 - val_accuracy: 0.9831\n",
      "Epoch 50/100\n",
      "176/176 [==============================] - 4s 22ms/step - loss: 12.3860 - accuracy: 0.9831 - val_loss: 14.0100 - val_accuracy: 0.9831\n",
      "Epoch 51/100\n",
      "176/176 [==============================] - 4s 22ms/step - loss: 12.6266 - accuracy: 0.9831 - val_loss: 14.2789 - val_accuracy: 0.9831\n",
      "Epoch 52/100\n",
      "176/176 [==============================] - 4s 22ms/step - loss: 12.8644 - accuracy: 0.9831 - val_loss: 14.5410 - val_accuracy: 0.9831\n",
      "Epoch 53/100\n",
      "176/176 [==============================] - 4s 22ms/step - loss: 13.1022 - accuracy: 0.9831 - val_loss: 14.8176 - val_accuracy: 0.9831\n",
      "Epoch 54/100\n",
      "176/176 [==============================] - 4s 22ms/step - loss: 13.3412 - accuracy: 0.9831 - val_loss: 15.0859 - val_accuracy: 0.9831\n",
      "Epoch 55/100\n",
      "176/176 [==============================] - 4s 22ms/step - loss: 13.5814 - accuracy: 0.9831 - val_loss: 15.3440 - val_accuracy: 0.9831\n",
      "Epoch 56/100\n",
      "176/176 [==============================] - 4s 22ms/step - loss: 13.8216 - accuracy: 0.9831 - val_loss: 15.6179 - val_accuracy: 0.9831\n",
      "Epoch 57/100\n"
     ]
    },
    {
     "name": "stdout",
     "output_type": "stream",
     "text": [
      "176/176 [==============================] - 4s 22ms/step - loss: 14.0563 - accuracy: 0.9831 - val_loss: 15.8760 - val_accuracy: 0.9831\n",
      "Epoch 58/100\n",
      "176/176 [==============================] - 4s 22ms/step - loss: 14.2962 - accuracy: 0.9831 - val_loss: 16.1422 - val_accuracy: 0.9831\n",
      "Epoch 59/100\n",
      "176/176 [==============================] - 4s 22ms/step - loss: 14.5307 - accuracy: 0.9831 - val_loss: 16.4171 - val_accuracy: 0.9831\n",
      "Epoch 60/100\n",
      "176/176 [==============================] - 4s 22ms/step - loss: 14.7664 - accuracy: 0.9831 - val_loss: 16.6765 - val_accuracy: 0.9831\n",
      "Epoch 61/100\n",
      "176/176 [==============================] - 4s 22ms/step - loss: 15.0116 - accuracy: 0.9831 - val_loss: 16.9557 - val_accuracy: 0.9831\n",
      "Epoch 62/100\n",
      "176/176 [==============================] - 4s 22ms/step - loss: 15.2551 - accuracy: 0.9831 - val_loss: 17.2204 - val_accuracy: 0.9831\n",
      "Epoch 63/100\n",
      "176/176 [==============================] - 4s 22ms/step - loss: 15.4945 - accuracy: 0.9831 - val_loss: 17.5018 - val_accuracy: 0.9831\n",
      "Epoch 64/100\n",
      "176/176 [==============================] - 4s 22ms/step - loss: 15.7361 - accuracy: 0.9831 - val_loss: 17.7713 - val_accuracy: 0.9831\n",
      "Epoch 65/100\n",
      "176/176 [==============================] - 4s 22ms/step - loss: 15.9754 - accuracy: 0.9831 - val_loss: 18.0102 - val_accuracy: 0.9831\n",
      "Epoch 66/100\n",
      "176/176 [==============================] - 4s 22ms/step - loss: 16.2112 - accuracy: 0.9831 - val_loss: 18.2942 - val_accuracy: 0.9831\n",
      "Epoch 67/100\n",
      "176/176 [==============================] - 4s 22ms/step - loss: 16.4609 - accuracy: 0.9831 - val_loss: 18.5796 - val_accuracy: 0.9831\n",
      "Epoch 68/100\n",
      "176/176 [==============================] - 4s 22ms/step - loss: 16.7060 - accuracy: 0.9831 - val_loss: 18.8668 - val_accuracy: 0.9831\n",
      "Epoch 69/100\n",
      "176/176 [==============================] - 4s 22ms/step - loss: 16.9522 - accuracy: 0.9831 - val_loss: 19.1226 - val_accuracy: 0.9831\n",
      "Epoch 70/100\n",
      "176/176 [==============================] - 4s 22ms/step - loss: 17.1923 - accuracy: 0.9831 - val_loss: 19.4025 - val_accuracy: 0.9831\n",
      "Epoch 71/100\n",
      "176/176 [==============================] - 4s 22ms/step - loss: 17.4369 - accuracy: 0.9831 - val_loss: 19.6620 - val_accuracy: 0.9831\n",
      "Epoch 72/100\n",
      "176/176 [==============================] - 4s 22ms/step - loss: 17.6781 - accuracy: 0.9831 - val_loss: 19.9376 - val_accuracy: 0.9831\n",
      "Epoch 73/100\n",
      "176/176 [==============================] - 4s 22ms/step - loss: 17.9239 - accuracy: 0.9831 - val_loss: 20.2209 - val_accuracy: 0.9831\n",
      "Epoch 74/100\n",
      "176/176 [==============================] - 4s 22ms/step - loss: 18.1721 - accuracy: 0.9831 - val_loss: 20.5032 - val_accuracy: 0.9831\n",
      "Epoch 75/100\n",
      "176/176 [==============================] - 4s 22ms/step - loss: 18.4207 - accuracy: 0.9831 - val_loss: 20.7700 - val_accuracy: 0.9831\n",
      "Epoch 76/100\n",
      "176/176 [==============================] - 4s 22ms/step - loss: 18.6674 - accuracy: 0.9831 - val_loss: 21.0459 - val_accuracy: 0.9831\n",
      "Epoch 77/100\n",
      "176/176 [==============================] - 4s 22ms/step - loss: 18.9131 - accuracy: 0.9831 - val_loss: 21.3118 - val_accuracy: 0.9831\n",
      "Epoch 78/100\n",
      "176/176 [==============================] - 4s 22ms/step - loss: 19.1480 - accuracy: 0.9831 - val_loss: 21.5836 - val_accuracy: 0.9831\n",
      "Epoch 79/100\n",
      "176/176 [==============================] - 4s 22ms/step - loss: 19.3938 - accuracy: 0.9831 - val_loss: 21.8530 - val_accuracy: 0.9831\n",
      "Epoch 80/100\n",
      "176/176 [==============================] - 4s 22ms/step - loss: 19.6343 - accuracy: 0.9831 - val_loss: 22.1321 - val_accuracy: 0.9831\n",
      "Epoch 81/100\n",
      "176/176 [==============================] - 4s 22ms/step - loss: 19.8741 - accuracy: 0.9831 - val_loss: 22.4025 - val_accuracy: 0.9831\n",
      "Epoch 82/100\n",
      "176/176 [==============================] - 4s 22ms/step - loss: 20.1134 - accuracy: 0.9831 - val_loss: 22.6665 - val_accuracy: 0.9831\n",
      "Epoch 83/100\n",
      "176/176 [==============================] - 4s 22ms/step - loss: 20.3577 - accuracy: 0.9831 - val_loss: 22.9503 - val_accuracy: 0.9831\n",
      "Epoch 84/100\n",
      "176/176 [==============================] - 4s 22ms/step - loss: 20.5991 - accuracy: 0.9831 - val_loss: 23.2115 - val_accuracy: 0.9831\n",
      "Epoch 85/100\n",
      "176/176 [==============================] - 4s 22ms/step - loss: 20.8394 - accuracy: 0.9831 - val_loss: 23.4839 - val_accuracy: 0.9831\n",
      "Epoch 86/100\n",
      "176/176 [==============================] - 4s 22ms/step - loss: 21.0817 - accuracy: 0.9831 - val_loss: 23.7560 - val_accuracy: 0.9831\n",
      "Epoch 87/100\n",
      "176/176 [==============================] - 4s 22ms/step - loss: 21.3263 - accuracy: 0.9831 - val_loss: 24.0202 - val_accuracy: 0.9831\n",
      "Epoch 88/100\n",
      "176/176 [==============================] - 4s 22ms/step - loss: 21.5623 - accuracy: 0.9831 - val_loss: 24.2926 - val_accuracy: 0.9831\n",
      "Epoch 89/100\n",
      "176/176 [==============================] - 4s 22ms/step - loss: 21.7971 - accuracy: 0.9831 - val_loss: 24.5513 - val_accuracy: 0.9831\n",
      "Epoch 90/100\n",
      "176/176 [==============================] - 4s 22ms/step - loss: 22.0414 - accuracy: 0.9831 - val_loss: 24.8254 - val_accuracy: 0.9831\n",
      "Epoch 91/100\n",
      "176/176 [==============================] - 4s 22ms/step - loss: 22.2813 - accuracy: 0.9831 - val_loss: 25.0947 - val_accuracy: 0.9831\n",
      "Epoch 92/100\n",
      "176/176 [==============================] - 4s 22ms/step - loss: 22.5206 - accuracy: 0.9831 - val_loss: 25.3585 - val_accuracy: 0.9831\n",
      "Epoch 93/100\n",
      "176/176 [==============================] - 4s 22ms/step - loss: 22.7595 - accuracy: 0.9831 - val_loss: 25.6317 - val_accuracy: 0.9831\n",
      "Epoch 94/100\n",
      "176/176 [==============================] - 4s 22ms/step - loss: 23.0054 - accuracy: 0.9831 - val_loss: 25.9107 - val_accuracy: 0.9831\n",
      "Epoch 95/100\n",
      "176/176 [==============================] - 4s 22ms/step - loss: 23.2476 - accuracy: 0.9831 - val_loss: 26.1773 - val_accuracy: 0.9831\n",
      "Epoch 96/100\n",
      "176/176 [==============================] - 4s 22ms/step - loss: 23.4805 - accuracy: 0.9831 - val_loss: 26.4516 - val_accuracy: 0.9831\n",
      "Epoch 97/100\n",
      "176/176 [==============================] - 4s 22ms/step - loss: 23.7145 - accuracy: 0.9831 - val_loss: 26.7057 - val_accuracy: 0.9831\n",
      "Epoch 98/100\n",
      "176/176 [==============================] - 4s 22ms/step - loss: 23.9557 - accuracy: 0.9831 - val_loss: 26.9809 - val_accuracy: 0.9831\n",
      "Epoch 99/100\n",
      "176/176 [==============================] - 4s 22ms/step - loss: 24.2011 - accuracy: 0.9831 - val_loss: 27.2500 - val_accuracy: 0.9831\n",
      "Epoch 100/100\n",
      "176/176 [==============================] - 4s 22ms/step - loss: 24.4422 - accuracy: 0.9831 - val_loss: 27.5264 - val_accuracy: 0.9831\n"
     ]
    },
    {
     "data": {
      "text/plain": [
       "<tensorflow.python.keras.callbacks.History at 0x17aec18b970>"
      ]
     },
     "execution_count": 40,
     "metadata": {},
     "output_type": "execute_result"
    }
   ],
   "source": [
    "model = Model([encoder_inputs, decoder_inputs], decoder_outputs)\n",
    "\n",
    "model.compile(optimizer='rmsprop', loss='categorical_crossentropy', metrics=['accuracy'])\n",
    "\n",
    "model.fit([encoder_input_data, decoder_input_data], decoder_target_data, \n",
    "          batch_size=batch_size, epochs=epochs, validation_split=0.25)"
   ]
  },
  {
   "cell_type": "code",
   "execution_count": 41,
   "id": "f914cbc6",
   "metadata": {},
   "outputs": [],
   "source": [
    "# model.save('Translation tutorial - Encoder and Decoder.h5', model)"
   ]
  },
  {
   "cell_type": "code",
   "execution_count": null,
   "id": "3ff611bc",
   "metadata": {},
   "outputs": [],
   "source": []
  }
 ],
 "metadata": {
  "kernelspec": {
   "display_name": "Python 3",
   "language": "python",
   "name": "python3"
  },
  "language_info": {
   "codemirror_mode": {
    "name": "ipython",
    "version": 3
   },
   "file_extension": ".py",
   "mimetype": "text/x-python",
   "name": "python",
   "nbconvert_exporter": "python",
   "pygments_lexer": "ipython3",
   "version": "3.8.6"
  }
 },
 "nbformat": 4,
 "nbformat_minor": 5
}
